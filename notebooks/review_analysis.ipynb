{
 "cells": [
  {
   "cell_type": "code",
   "execution_count": 1,
   "id": "d550d450",
   "metadata": {},
   "outputs": [],
   "source": [
    "import pandas as pd\n",
    "import sys\n",
    "sys.path.append('../src')\n",
    "from scrapy import Scrapy\n",
    "from convert_json_csv import ConvertJSONToCsv"
   ]
  },
  {
   "cell_type": "code",
   "execution_count": 2,
   "id": "28a89d38",
   "metadata": {},
   "outputs": [],
   "source": [
    "app_ids = ['com.combanketh.mobilebanking', 'com.boa.boaMobileBanking', 'com.dashen.dashensuperapp']"
   ]
  },
  {
   "cell_type": "code",
   "execution_count": null,
   "id": "ea74e758",
   "metadata": {},
   "outputs": [
    {
     "name": "stdout",
     "output_type": "stream",
     "text": [
      "Data already imported\n",
      "com.combanketh.mobilebanking has 0 reviews\n",
      "Data already imported\n",
      "com.boa.boaMobileBanking has 0 reviews\n",
      "Data already imported\n",
      "com.dashen.dashensuperapp has 0 reviews\n"
     ]
    }
   ],
   "source": [
    "\n",
    "csv = ConvertJSONToCsv()\n",
    "for app_id in app_ids:\n",
    "    scrapy = Scrapy()\n",
    "    data = scrapy.save_data_json('../data/',f'data-{app_id}.json', app_id)\n",
    "    print(f'{app_id} has {len(data)} reviews')\n"
   ]
  },
  {
   "cell_type": "code",
   "execution_count": null,
   "id": "8cca6fd9",
   "metadata": {},
   "outputs": [],
   "source": [
    "import json\n",
    "for id in app_ids:\n",
    "    with open(f'../data/data-{id}.json') as f:\n",
    "        data = json.load(f)\n",
    "        csv.to_csv(data, f'{id.split('.')[1]}.csv')"
   ]
  },
  {
   "cell_type": "code",
   "execution_count": 37,
   "id": "138b9608",
   "metadata": {},
   "outputs": [
    {
     "name": "stdout",
     "output_type": "stream",
     "text": [
      "combanketh\n",
      "==============================\n",
      "columns above the threshold\n",
      "boa\n",
      "==============================\n",
      "columns above the threshold\n",
      "dashen\n",
      "==============================\n",
      "columns above the threshold\n"
     ]
    }
   ],
   "source": [
    "import pandas as pd\n",
    "from preprocess import clean_data, drop_column\n",
    "filtered_data = None\n",
    "for id in app_ids:\n",
    "    bank = id.split('.')[1]\n",
    "    data = pd.read_csv(f'../data/{bank}.csv')\n",
    "    print(id.split('.')[1])\n",
    "    print('='*30)\n",
    "    cleaned_data = clean_data(data)\n",
    "    cleaned_data['bank'] = bank\n",
    "    cleaned_data['source'] = 'play-store'\n",
    "    drop_column(cleaned_data,['userImage', 'userName', 'thumbsUpCount', 'reviewId'])\n",
    "    cleaned_data.to_csv(f'../data/{bank}.csv')\n",
    "\n"
   ]
  },
  {
   "cell_type": "code",
   "execution_count": 4,
   "id": "e98eb679",
   "metadata": {},
   "outputs": [
    {
     "name": "stdout",
     "output_type": "stream",
     "text": [
      "   Unnamed: 0.1  Unnamed: 0  \\\n",
      "0             0           0   \n",
      "1             1           1   \n",
      "2             2           2   \n",
      "3             3           3   \n",
      "4             4           4   \n",
      "\n",
      "                                             content  score          at  \\\n",
      "0                                               good      5  2025-06-04   \n",
      "1  it was good app but it have some issues like i...      2  2025-06-04   \n",
      "2                                              dedeb      5  2025-06-04   \n",
      "3                                               good      5  2025-06-04   \n",
      "4                                               Good      5  2025-06-04   \n",
      "\n",
      "         bank      source  sentiment  \n",
      "0  combanketh  play-store     0.4404  \n",
      "1  combanketh  play-store     0.6369  \n",
      "2  combanketh  play-store     0.0000  \n",
      "3  combanketh  play-store     0.4404  \n",
      "4  combanketh  play-store     0.4404  \n",
      "   Unnamed: 0.1  Unnamed: 0  \\\n",
      "0             0           0   \n",
      "1             1           1   \n",
      "2             2           2   \n",
      "3             3           3   \n",
      "4             4           4   \n",
      "\n",
      "                                             content  score          at bank  \\\n",
      "0  Hello, I’m facing a problem with the BOA Mobil...      1  2025-06-03  boa   \n",
      "1                                        exceptional      5  2025-06-03  boa   \n",
      "2                               BoA Mobile good bank      5  2025-06-02  boa   \n",
      "3                    this is worest app 24/7 loading      1  2025-06-01  boa   \n",
      "4  This App is not interest for Android phone Ple...      1  2025-06-01  boa   \n",
      "\n",
      "       source  sentiment  \n",
      "0  play-store    -0.1884  \n",
      "1  play-store     0.0000  \n",
      "2  play-store     0.4404  \n",
      "3  play-store     0.0000  \n",
      "4  play-store    -0.0464  \n",
      "   Unnamed: 0.1  Unnamed: 0                              content  score  \\\n",
      "0             0           0                                 መቸሸጠ      5   \n",
      "1             1           1                                  wow      5   \n",
      "2             2           2                                gadaa      5   \n",
      "3             3           3  Massive upgrade from the Amole app.      5   \n",
      "4             4           4                                 good      4   \n",
      "\n",
      "           at    bank      source  sentiment  \n",
      "0  2025-06-03  dashen  play-store     0.0000  \n",
      "1  2025-06-03  dashen  play-store     0.5859  \n",
      "2  2025-06-01  dashen  play-store     0.0000  \n",
      "3  2025-05-31  dashen  play-store     0.0000  \n",
      "4  2025-05-31  dashen  play-store     0.4404  \n"
     ]
    }
   ],
   "source": [
    "from sentiment import sentiment_analysis\n",
    "\n",
    "for id in app_ids:\n",
    "    bank = id.split('.')[1]\n",
    "    data = pd.read_csv(f'../data/{bank}.csv')\n",
    "    # Drop rows where 'content' is NaN to avoid errors in sentiment_analysis\n",
    "    data = data.dropna(subset=['content'])\n",
    "    if not {'sentiment'}.issubset(data.columns):\n",
    "        data['sentiment'] = data['content'].apply(sentiment_analysis)\n",
    "    print(data.head())\n"
   ]
  }
 ],
 "metadata": {
  "kernelspec": {
   "display_name": ".venv",
   "language": "python",
   "name": "python3"
  },
  "language_info": {
   "codemirror_mode": {
    "name": "ipython",
    "version": 3
   },
   "file_extension": ".py",
   "mimetype": "text/x-python",
   "name": "python",
   "nbconvert_exporter": "python",
   "pygments_lexer": "ipython3",
   "version": "3.13.3"
  }
 },
 "nbformat": 4,
 "nbformat_minor": 5
}
