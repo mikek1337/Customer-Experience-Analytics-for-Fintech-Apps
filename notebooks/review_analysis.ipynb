{
 "cells": [
  {
   "cell_type": "code",
   "execution_count": 1,
   "id": "d550d450",
   "metadata": {},
   "outputs": [],
   "source": [
    "import pandas as pd\n",
    "import sys\n",
    "sys.path.append('../src')\n",
    "from scrapy import Scrapy\n",
    "from convert_json_csv import ConvertJSONToCsv"
   ]
  },
  {
   "cell_type": "code",
   "execution_count": null,
   "id": "28a89d38",
   "metadata": {},
   "outputs": [],
   "source": [
    "app_ids = ['com.combanketh.mobilebanking', 'com.boa.boaMobileBanking', 'com.dashen.dashensuperapp']"
   ]
  },
  {
   "cell_type": "markdown",
   "id": "62793fb3",
   "metadata": {},
   "source": [
    "**Collecting App Review Data**\n",
    "\n",
    "In this step, we initialize the data conversion and scraping classes, then iterate through the list of app IDs to collect review data for each banking app. For every app ID in `app_ids`, we use the `Scrapy` class to fetch and save the review data as a JSON file in the `../data/` directory. This process ensures that raw review data for each app is stored locally for further processing and analysis."
   ]
  },
  {
   "cell_type": "code",
   "execution_count": 6,
   "id": "ea74e758",
   "metadata": {},
   "outputs": [
    {
     "name": "stdout",
     "output_type": "stream",
     "text": [
      "Data already imported\n",
      "Data already imported\n"
     ]
    }
   ],
   "source": [
    "\n",
    "csv = ConvertJSONToCsv()\n",
    "scrapy = Scrapy()\n",
    "for app_id in app_ids:\n",
    "    data = scrapy.save_data_json('../data/',f'data-{app_id}.json', app_id)\n",
    "   \n"
   ]
  },
  {
   "cell_type": "markdown",
   "id": "43ff616d",
   "metadata": {},
   "source": [
    "**Saving the Data to a CSV File**\n",
    "\n",
    "After collecting and processing the app review data, we save the cleaned DataFrame to a CSV file for further analysis or sharing. This ensures the data is stored in a structured, accessible format.\n",
    "\n",
    "- Each app's reviews are saved as a separate CSV file named after the bank.\n",
    "- The CSV files are stored in the `../data/` directory.\n",
    "- This step is essential for downstream tasks such as data exploration, visualization, or machine learning."
   ]
  },
  {
   "cell_type": "code",
   "execution_count": 7,
   "id": "8cca6fd9",
   "metadata": {},
   "outputs": [
    {
     "name": "stdout",
     "output_type": "stream",
     "text": [
      "com.combanketh.mobilebanking total reviews 7500\n",
      "com.boa.boaMobileBanking total reviews 1044\n",
      "com.dashen.dashensuperapp total reviews 449\n"
     ]
    }
   ],
   "source": [
    "import json\n",
    "for id in app_ids:\n",
    "    with open(f'../data/data-{id}.json') as f:\n",
    "        data = json.load(f)\n",
    "        print(f'{id} total reviews {len(data)}')\n",
    "        csv.to_csv(data, f'{id.split('.')[1]}.csv')"
   ]
  },
  {
   "cell_type": "markdown",
   "id": "43cead59",
   "metadata": {},
   "source": [
    "**Preprocessing and Cleaning App Review Data**\n",
    "\n",
    "In this step, we preprocess the raw review data for each banking app to ensure consistency and quality for further analysis:\n",
    "\n",
    "- **Import Required Modules:** We use `pandas` for data manipulation and import custom preprocessing functions `clean_data` and `drop_column`.\n",
    "- **Iterate Through Each App:** For every app in `app_ids`, we:\n",
    "    - Load the corresponding CSV file into a DataFrame.\n",
    "    - Print basic information about the data for inspection.\n",
    "    - Clean the data using the `clean_data` function.\n",
    "    - Add `bank` and `source` columns to label the data.\n",
    "    - Remove unnecessary columns (`userImage`, `userName`, `thumbsUpCount`, `reviewId`) if they exist.\n",
    "    - Save the cleaned DataFrame back to CSV for downstream tasks.\n",
    "\n",
    "This ensures that all review datasets are standardized, labeled, and free from irrelevant columns, making them ready for sentiment analysis and further exploration."
   ]
  },
  {
   "cell_type": "code",
   "execution_count": 10,
   "id": "138b9608",
   "metadata": {},
   "outputs": [
    {
     "name": "stdout",
     "output_type": "stream",
     "text": [
      "combanketh\n",
      "==============================\n",
      "<class 'pandas.core.frame.DataFrame'>\n",
      "RangeIndex: 7500 entries, 0 to 7499\n",
      "Data columns (total 6 columns):\n",
      " #   Column      Non-Null Count  Dtype \n",
      "---  ------      --------------  ----- \n",
      " 0   Unnamed: 0  7500 non-null   int64 \n",
      " 1   content     7493 non-null   object\n",
      " 2   score       7500 non-null   int64 \n",
      " 3   at          7500 non-null   object\n",
      " 4   bank        7500 non-null   object\n",
      " 5   source      7500 non-null   object\n",
      "dtypes: int64(2), object(4)\n",
      "memory usage: 351.7+ KB\n",
      "None\n",
      "columns above the threshold\n",
      "<class 'pandas.core.frame.DataFrame'>\n",
      "RangeIndex: 7500 entries, 0 to 7499\n",
      "Data columns (total 6 columns):\n",
      " #   Column      Non-Null Count  Dtype         \n",
      "---  ------      --------------  -----         \n",
      " 0   Unnamed: 0  7500 non-null   int64         \n",
      " 1   content     7493 non-null   object        \n",
      " 2   score       7500 non-null   int64         \n",
      " 3   at          7500 non-null   datetime64[ns]\n",
      " 4   bank        7500 non-null   object        \n",
      " 5   source      7500 non-null   object        \n",
      "dtypes: datetime64[ns](1), int64(2), object(3)\n",
      "memory usage: 351.7+ KB\n",
      "None\n",
      "boa\n",
      "==============================\n",
      "<class 'pandas.core.frame.DataFrame'>\n",
      "RangeIndex: 1044 entries, 0 to 1043\n",
      "Data columns (total 6 columns):\n",
      " #   Column      Non-Null Count  Dtype \n",
      "---  ------      --------------  ----- \n",
      " 0   Unnamed: 0  1044 non-null   int64 \n",
      " 1   content     1044 non-null   object\n",
      " 2   score       1044 non-null   int64 \n",
      " 3   at          1044 non-null   object\n",
      " 4   bank        1044 non-null   object\n",
      " 5   source      1044 non-null   object\n",
      "dtypes: int64(2), object(4)\n",
      "memory usage: 49.1+ KB\n",
      "None\n",
      "columns above the threshold\n",
      "<class 'pandas.core.frame.DataFrame'>\n",
      "RangeIndex: 1044 entries, 0 to 1043\n",
      "Data columns (total 6 columns):\n",
      " #   Column      Non-Null Count  Dtype         \n",
      "---  ------      --------------  -----         \n",
      " 0   Unnamed: 0  1044 non-null   int64         \n",
      " 1   content     1044 non-null   object        \n",
      " 2   score       1044 non-null   int64         \n",
      " 3   at          1044 non-null   datetime64[ns]\n",
      " 4   bank        1044 non-null   object        \n",
      " 5   source      1044 non-null   object        \n",
      "dtypes: datetime64[ns](1), int64(2), object(3)\n",
      "memory usage: 49.1+ KB\n",
      "None\n",
      "dashen\n",
      "==============================\n",
      "<class 'pandas.core.frame.DataFrame'>\n",
      "RangeIndex: 449 entries, 0 to 448\n",
      "Data columns (total 6 columns):\n",
      " #   Column      Non-Null Count  Dtype \n",
      "---  ------      --------------  ----- \n",
      " 0   Unnamed: 0  449 non-null    int64 \n",
      " 1   content     449 non-null    object\n",
      " 2   score       449 non-null    int64 \n",
      " 3   at          449 non-null    object\n",
      " 4   bank        449 non-null    object\n",
      " 5   source      449 non-null    object\n",
      "dtypes: int64(2), object(4)\n",
      "memory usage: 21.2+ KB\n",
      "None\n",
      "columns above the threshold\n",
      "<class 'pandas.core.frame.DataFrame'>\n",
      "RangeIndex: 449 entries, 0 to 448\n",
      "Data columns (total 6 columns):\n",
      " #   Column      Non-Null Count  Dtype         \n",
      "---  ------      --------------  -----         \n",
      " 0   Unnamed: 0  449 non-null    int64         \n",
      " 1   content     449 non-null    object        \n",
      " 2   score       449 non-null    int64         \n",
      " 3   at          449 non-null    datetime64[ns]\n",
      " 4   bank        449 non-null    object        \n",
      " 5   source      449 non-null    object        \n",
      "dtypes: datetime64[ns](1), int64(2), object(3)\n",
      "memory usage: 21.2+ KB\n",
      "None\n"
     ]
    }
   ],
   "source": [
    "import pandas as pd\n",
    "from preprocess import clean_data, drop_column\n",
    "filtered_data = None\n",
    "for id in app_ids:\n",
    "    bank = id.split('.')[1]\n",
    "    data = pd.read_csv(f'../data/{bank}.csv')\n",
    "    print(id.split('.')[1])\n",
    "    print('='*30)\n",
    "    print(data.info())\n",
    "    cleaned_data = clean_data(data)\n",
    "    cleaned_data['bank'] = bank\n",
    "    cleaned_data['source'] = 'play-store'\n",
    "    if {'userImage', 'userName', 'thumbsUpCount', 'reviewId'}.issubset(cleaned_data.columns):\n",
    "        drop_column(cleaned_data,['userImage', 'userName', 'thumbsUpCount', 'reviewId'])\n",
    "    print(data.info())\n",
    "    cleaned_data.to_csv(f'../data/{bank}.csv')\n",
    "\n"
   ]
  },
  {
   "cell_type": "markdown",
   "id": "051ebd35",
   "metadata": {},
   "source": [
    "**Sentiment Analysis on App Reviews**\n",
    "\n",
    "This step performs sentiment analysis on the cleaned app review data:\n",
    "\n",
    "- **Import the Sentiment Analysis Function:** Use `sentiment_analysis` to classify review sentiments.\n",
    "- **Load Cleaned Data:** For each app, load its cleaned CSV file into a DataFrame.\n",
    "- **Handle Missing Content:** Remove rows where the review content is missing to avoid errors during analysis.\n",
    "- **Apply Sentiment Analysis:** If the DataFrame does not already contain a `sentiment` column, apply the sentiment analysis function to each review and add the results as a new column.\n",
    "- **Preview Results:** Display the first few rows of the DataFrame to verify the sentiment analysis output."
   ]
  },
  {
   "cell_type": "code",
   "execution_count": 4,
   "id": "e98eb679",
   "metadata": {},
   "outputs": [
    {
     "name": "stdout",
     "output_type": "stream",
     "text": [
      "   Unnamed: 0.1  Unnamed: 0  \\\n",
      "0             0           0   \n",
      "1             1           1   \n",
      "2             2           2   \n",
      "3             3           3   \n",
      "4             4           4   \n",
      "\n",
      "                                             content  score          at  \\\n",
      "0                                               good      5  2025-06-04   \n",
      "1  it was good app but it have some issues like i...      2  2025-06-04   \n",
      "2                                              dedeb      5  2025-06-04   \n",
      "3                                               good      5  2025-06-04   \n",
      "4                                               Good      5  2025-06-04   \n",
      "\n",
      "         bank      source  sentiment  \n",
      "0  combanketh  play-store     0.4404  \n",
      "1  combanketh  play-store     0.6369  \n",
      "2  combanketh  play-store     0.0000  \n",
      "3  combanketh  play-store     0.4404  \n",
      "4  combanketh  play-store     0.4404  \n",
      "   Unnamed: 0.1  Unnamed: 0  \\\n",
      "0             0           0   \n",
      "1             1           1   \n",
      "2             2           2   \n",
      "3             3           3   \n",
      "4             4           4   \n",
      "\n",
      "                                             content  score          at bank  \\\n",
      "0  Hello, I’m facing a problem with the BOA Mobil...      1  2025-06-03  boa   \n",
      "1                                        exceptional      5  2025-06-03  boa   \n",
      "2                               BoA Mobile good bank      5  2025-06-02  boa   \n",
      "3                    this is worest app 24/7 loading      1  2025-06-01  boa   \n",
      "4  This App is not interest for Android phone Ple...      1  2025-06-01  boa   \n",
      "\n",
      "       source  sentiment  \n",
      "0  play-store    -0.1884  \n",
      "1  play-store     0.0000  \n",
      "2  play-store     0.4404  \n",
      "3  play-store     0.0000  \n",
      "4  play-store    -0.0464  \n",
      "   Unnamed: 0.1  Unnamed: 0                              content  score  \\\n",
      "0             0           0                                 መቸሸጠ      5   \n",
      "1             1           1                                  wow      5   \n",
      "2             2           2                                gadaa      5   \n",
      "3             3           3  Massive upgrade from the Amole app.      5   \n",
      "4             4           4                                 good      4   \n",
      "\n",
      "           at    bank      source  sentiment  \n",
      "0  2025-06-03  dashen  play-store     0.0000  \n",
      "1  2025-06-03  dashen  play-store     0.5859  \n",
      "2  2025-06-01  dashen  play-store     0.0000  \n",
      "3  2025-05-31  dashen  play-store     0.0000  \n",
      "4  2025-05-31  dashen  play-store     0.4404  \n"
     ]
    }
   ],
   "source": [
    "from sentiment import sentiment_analysis\n",
    "\n",
    "for id in app_ids:\n",
    "    bank = id.split('.')[1]\n",
    "    data = pd.read_csv(f'../data/{bank}.csv')\n",
    "    # Drop rows where 'content' is NaN to avoid errors in sentiment_analysis\n",
    "    data = data.dropna(subset=['content'])\n",
    "    if not {'sentiment'}.issubset(data.columns):\n",
    "        data['sentiment'] = data['content'].apply(sentiment_analysis)\n",
    "    print(data.head())\n"
   ]
  }
 ],
 "metadata": {
  "kernelspec": {
   "display_name": ".venv",
   "language": "python",
   "name": "python3"
  },
  "language_info": {
   "codemirror_mode": {
    "name": "ipython",
    "version": 3
   },
   "file_extension": ".py",
   "mimetype": "text/x-python",
   "name": "python",
   "nbconvert_exporter": "python",
   "pygments_lexer": "ipython3",
   "version": "3.13.3"
  }
 },
 "nbformat": 4,
 "nbformat_minor": 5
}
