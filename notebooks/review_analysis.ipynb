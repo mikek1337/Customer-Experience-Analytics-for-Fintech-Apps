{
 "cells": [
  {
   "cell_type": "code",
   "execution_count": 1,
   "id": "d550d450",
   "metadata": {},
   "outputs": [],
   "source": [
    "import pandas as pd\n",
    "import sys\n",
    "sys.path.append('../src')\n",
    "from scrapy import Scrapy\n",
    "from convert_json_csv import ConvertJSONToCsv"
   ]
  },
  {
   "cell_type": "code",
   "execution_count": 2,
   "id": "28a89d38",
   "metadata": {},
   "outputs": [],
   "source": [
    "app_ids = ['com.combanketh.mobilebanking', 'com.boa.boaMobileBanking', 'com.dashen.dashensuperapp']"
   ]
  },
  {
   "cell_type": "code",
   "execution_count": null,
   "id": "ea74e758",
   "metadata": {},
   "outputs": [
    {
     "name": "stdout",
     "output_type": "stream",
     "text": [
      "Data already imported\n",
      "com.combanketh.mobilebanking has 0 reviews\n",
      "Data already imported\n",
      "com.boa.boaMobileBanking has 0 reviews\n",
      "Data already imported\n",
      "com.dashen.dashensuperapp has 0 reviews\n"
     ]
    }
   ],
   "source": [
    "\n",
    "csv = ConvertJSONToCsv()\n",
    "for app_id in app_ids:\n",
    "    scrapy = Scrapy()\n",
    "    data = scrapy.save_data_json('../data/',f'data-{app_id}.json', app_id)\n",
    "    print(f'{app_id} has {len(data)} reviews')\n"
   ]
  },
  {
   "cell_type": "code",
   "execution_count": null,
   "id": "8cca6fd9",
   "metadata": {},
   "outputs": [],
   "source": [
    "import json\n",
    "for id in app_ids:\n",
    "    with open(f'../data/data-{id}.json') as f:\n",
    "        data = json.load(f)\n",
    "        csv.to_csv(data, f'{id.split('.')[1]}.csv')"
   ]
  },
  {
   "cell_type": "code",
   "execution_count": 3,
   "id": "138b9608",
   "metadata": {},
   "outputs": [
    {
     "name": "stdout",
     "output_type": "stream",
     "text": [
      "combanketh\n",
      "==============================\n",
      "columns above the threshold\n",
      "                               reviewId       userName  \\\n",
      "0  aa72fd94-aca8-48b2-bae2-29ad7633c7fb  A Google user   \n",
      "1  9af95d2a-e42c-45ff-a4c9-5c38765df4a4  A Google user   \n",
      "2  067d3e52-3586-4e02-b088-0411f25d34fb  A Google user   \n",
      "3  88a64315-9de3-4a35-ac27-5ff37c2833b6  A Google user   \n",
      "4  c2cf0ff7-85ac-4e7c-902d-a8c5a8d69e22  A Google user   \n",
      "\n",
      "                                           userImage  \\\n",
      "0  https://play-lh.googleusercontent.com/EGemoI2N...   \n",
      "1  https://play-lh.googleusercontent.com/EGemoI2N...   \n",
      "2  https://play-lh.googleusercontent.com/EGemoI2N...   \n",
      "3  https://play-lh.googleusercontent.com/EGemoI2N...   \n",
      "4  https://play-lh.googleusercontent.com/EGemoI2N...   \n",
      "\n",
      "                                             content  score  thumbsUpCount  \\\n",
      "0                                               good      5              0   \n",
      "1  it was good app but it have some issues like i...      2              0   \n",
      "2                                              dedeb      5              0   \n",
      "3                                               good      5              0   \n",
      "4                                               Good      5              0   \n",
      "\n",
      "          at        bank      source  \n",
      "0 2025-06-04  combanketh  play-store  \n",
      "1 2025-06-04  combanketh  play-store  \n",
      "2 2025-06-04  combanketh  play-store  \n",
      "3 2025-06-04  combanketh  play-store  \n",
      "4 2025-06-04  combanketh  play-store  \n",
      "boa\n",
      "==============================\n",
      "columns above the threshold\n",
      "                               reviewId           userName  \\\n",
      "0  3559b91c-fad9-4032-bebe-cf99974b9628    Robel Alebachew   \n",
      "1  10e85f30-540d-4810-ba89-85a7e004480b  Haymanot Anberber   \n",
      "2  d7f07898-4ba1-47b4-9e8c-a3cc10b1bf0f  Mohamed Abdillahi   \n",
      "3  2ca9480b-ff5f-4b59-952c-5921db83dab2         Ahadu tech   \n",
      "4  8cd852da-0257-4ca0-9003-314fb464e55a    Fentaw Kefyalew   \n",
      "\n",
      "                                           userImage  \\\n",
      "0  https://play-lh.googleusercontent.com/a/ACg8oc...   \n",
      "1  https://play-lh.googleusercontent.com/a/ACg8oc...   \n",
      "2  https://play-lh.googleusercontent.com/a-/ALV-U...   \n",
      "3  https://play-lh.googleusercontent.com/a-/ALV-U...   \n",
      "4  https://play-lh.googleusercontent.com/a-/ALV-U...   \n",
      "\n",
      "                                             content  score  thumbsUpCount  \\\n",
      "0  Hello, I’m facing a problem with the BOA Mobil...      1              0   \n",
      "1                                        exceptional      5              0   \n",
      "2                               BoA Mobile good bank      5              0   \n",
      "3                    this is worest app 24/7 loading      1              0   \n",
      "4  This App is not interest for Android phone Ple...      1              0   \n",
      "\n",
      "          at bank      source  \n",
      "0 2025-06-03  boa  play-store  \n",
      "1 2025-06-03  boa  play-store  \n",
      "2 2025-06-02  boa  play-store  \n",
      "3 2025-06-01  boa  play-store  \n",
      "4 2025-06-01  boa  play-store  \n",
      "dashen\n",
      "==============================\n",
      "columns above the threshold\n",
      "                               reviewId              userName  \\\n",
      "0  6ece1f5e-55f2-404d-b980-1cb45823180f              Masersha   \n",
      "1  765ff69f-5274-45c5-985b-81b8d01e1874         Koki Mulugeta   \n",
      "2  7db66b6a-a044-43f1-a7ad-ea8a10815548    Badhasa Dassaalany   \n",
      "3  caf4a80c-85db-4b49-ab9c-a0b55e152317  Nebiyu Getachew Mamo   \n",
      "4  2c5df026-16eb-4d6b-a044-acf4103d1c36            Mudin said   \n",
      "\n",
      "                                           userImage  \\\n",
      "0  https://play-lh.googleusercontent.com/a/ACg8oc...   \n",
      "1  https://play-lh.googleusercontent.com/a/ACg8oc...   \n",
      "2  https://play-lh.googleusercontent.com/a/ACg8oc...   \n",
      "3  https://play-lh.googleusercontent.com/a-/ALV-U...   \n",
      "4  https://play-lh.googleusercontent.com/a-/ALV-U...   \n",
      "\n",
      "                               content  score  thumbsUpCount         at  \\\n",
      "0                                 መቸሸጠ      5              0 2025-06-03   \n",
      "1                                  wow      5              0 2025-06-03   \n",
      "2                                gadaa      5              0 2025-06-01   \n",
      "3  Massive upgrade from the Amole app.      5              0 2025-05-31   \n",
      "4                                 good      4              0 2025-05-31   \n",
      "\n",
      "     bank      source  \n",
      "0  dashen  play-store  \n",
      "1  dashen  play-store  \n",
      "2  dashen  play-store  \n",
      "3  dashen  play-store  \n",
      "4  dashen  play-store  \n"
     ]
    }
   ],
   "source": [
    "import pandas as pd\n",
    "from preprocess import clean_data, find_columns_with_missing_value\n",
    "for id in app_ids:\n",
    "    bank = id.split('.')[1]\n",
    "    data = pd.read_csv(f'../data/{bank}.csv')\n",
    "    print(id.split('.')[1])\n",
    "    print('='*30)\n",
    "    cleaned_data = clean_data(data)\n",
    "    cleaned_data['bank'] = bank\n",
    "    cleaned_data['source'] = 'play-store'\n",
    "    print(cleaned_data.head())\n",
    "\n",
    "    #cleaned_data = clean_data(data)"
   ]
  }
 ],
 "metadata": {
  "kernelspec": {
   "display_name": ".venv",
   "language": "python",
   "name": "python3"
  },
  "language_info": {
   "codemirror_mode": {
    "name": "ipython",
    "version": 3
   },
   "file_extension": ".py",
   "mimetype": "text/x-python",
   "name": "python",
   "nbconvert_exporter": "python",
   "pygments_lexer": "ipython3",
   "version": "3.13.3"
  }
 },
 "nbformat": 4,
 "nbformat_minor": 5
}
