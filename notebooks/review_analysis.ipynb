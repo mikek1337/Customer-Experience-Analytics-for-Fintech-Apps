{
 "cells": [
  {
   "cell_type": "code",
   "execution_count": 1,
   "id": "d550d450",
   "metadata": {},
   "outputs": [],
   "source": [
    "import pandas as pd\n",
    "import sys\n",
    "sys.path.append('../src')\n",
    "from scrapy import Scrapy\n",
    "from convert_json_csv import ConvertJSONToCsv"
   ]
  },
  {
   "cell_type": "code",
   "execution_count": 2,
   "id": "28a89d38",
   "metadata": {},
   "outputs": [],
   "source": [
    "app_ids = ['com.combanketh.mobilebanking', 'com.boa.boaMobileBanking', 'com.dashen.dashensuperapp']"
   ]
  },
  {
   "cell_type": "code",
   "execution_count": null,
   "id": "ea74e758",
   "metadata": {},
   "outputs": [
    {
     "name": "stdout",
     "output_type": "stream",
     "text": [
      "Data already imported\n",
      "com.combanketh.mobilebanking has 0 reviews\n",
      "Data already imported\n",
      "com.boa.boaMobileBanking has 0 reviews\n",
      "Data already imported\n",
      "com.dashen.dashensuperapp has 0 reviews\n"
     ]
    }
   ],
   "source": [
    "\n",
    "csv = ConvertJSONToCsv()\n",
    "for app_id in app_ids:\n",
    "    scrapy = Scrapy()\n",
    "    data = scrapy.save_data_json('../data/',f'data-{app_id}.json', app_id)\n",
    "    print(f'{app_id} has {len(data)} reviews')\n"
   ]
  },
  {
   "cell_type": "code",
   "execution_count": null,
   "id": "8cca6fd9",
   "metadata": {},
   "outputs": [],
   "source": [
    "import json\n",
    "for id in app_ids:\n",
    "    with open(f'../data/data-{id}.json') as f:\n",
    "        data = json.load(f)\n",
    "        csv.to_csv(data, f'{id.split('.')[1]}.csv')"
   ]
  },
  {
   "cell_type": "code",
   "execution_count": null,
   "id": "138b9608",
   "metadata": {},
   "outputs": [
    {
     "name": "stdout",
     "output_type": "stream",
     "text": [
      "combanketh\n",
      "==============================\n",
      "columns above the threshold\n",
      "boa\n",
      "==============================\n",
      "columns above the threshold\n",
      "dashen\n",
      "==============================\n",
      "columns above the threshold\n"
     ]
    }
   ],
   "source": [
    "import pandas as pd\n",
    "from preprocess import clean_data, find_columns_with_missing_value\n",
    "filtered_data = None\n",
    "for id in app_ids:\n",
    "    bank = id.split('.')[1]\n",
    "    data = pd.read_csv(f'../data/{bank}.csv')\n",
    "    print(id.split('.')[1])\n",
    "    print('='*30)\n",
    "    cleaned_data = clean_data(data)\n",
    "    cleaned_data['bank'] = bank\n",
    "    cleaned_data['source'] = 'play-store'\n",
    "    cleaned_data.to_csv()\n"
   ]
  },
  {
   "cell_type": "code",
   "execution_count": 28,
   "id": "e98eb679",
   "metadata": {},
   "outputs": [
    {
     "name": "stdout",
     "output_type": "stream",
     "text": [
      "<class 'pandas.core.frame.DataFrame'>\n",
      "RangeIndex: 449 entries, 0 to 448\n",
      "Data columns (total 9 columns):\n",
      " #   Column         Non-Null Count  Dtype         \n",
      "---  ------         --------------  -----         \n",
      " 0   reviewId       449 non-null    object        \n",
      " 1   userName       449 non-null    object        \n",
      " 2   userImage      449 non-null    object        \n",
      " 3   content        449 non-null    object        \n",
      " 4   score          449 non-null    int64         \n",
      " 5   thumbsUpCount  449 non-null    int64         \n",
      " 6   at             449 non-null    datetime64[ns]\n",
      " 7   bank           449 non-null    object        \n",
      " 8   source         449 non-null    object        \n",
      "dtypes: datetime64[ns](1), int64(2), object(6)\n",
      "memory usage: 31.7+ KB\n",
      "None\n"
     ]
    }
   ],
   "source": [
    "\n",
    "print(cleaned_data.info())"
   ]
  }
 ],
 "metadata": {
  "kernelspec": {
   "display_name": ".venv",
   "language": "python",
   "name": "python3"
  },
  "language_info": {
   "codemirror_mode": {
    "name": "ipython",
    "version": 3
   },
   "file_extension": ".py",
   "mimetype": "text/x-python",
   "name": "python",
   "nbconvert_exporter": "python",
   "pygments_lexer": "ipython3",
   "version": "3.13.3"
  }
 },
 "nbformat": 4,
 "nbformat_minor": 5
}
